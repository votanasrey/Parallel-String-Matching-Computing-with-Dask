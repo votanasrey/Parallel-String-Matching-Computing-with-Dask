{
 "cells": [
  {
   "cell_type": "code",
   "execution_count": 1,
   "id": "c5464520-be19-47de-888c-fd19f3758523",
   "metadata": {},
   "outputs": [],
   "source": [
    "import numpy as np\n",
    "import pandas as pd\n",
    "\n",
    "import dask.dataframe as dd\n",
    "import dask.array as da\n",
    "import dask.bag as db"
   ]
  },
  {
   "cell_type": "code",
   "execution_count": 3,
   "id": "dd80e8ed-dfca-48ad-a12c-431504e066d5",
   "metadata": {},
   "outputs": [],
   "source": [
    "bakong_data = pd.read_csv('dataset/bakong_data_1m.csv')\n",
    "aba_data = pd.read_csv('dataset/aba_data_1m.csv')"
   ]
  },
  {
   "cell_type": "markdown",
   "id": "587f71c0-d796-4e3a-badd-bc172ebb2c44",
   "metadata": {},
   "source": [
    "<hr>\n",
    "Clean Bakong Data\n",
    "<hr>\n"
   ]
  },
  {
   "cell_type": "code",
   "execution_count": 4,
   "id": "fd1dcf33-1eef-40ab-bbfd-789fceb90374",
   "metadata": {},
   "outputs": [
    {
     "data": {
      "text/html": [
       "<div>\n",
       "<style scoped>\n",
       "    .dataframe tbody tr th:only-of-type {\n",
       "        vertical-align: middle;\n",
       "    }\n",
       "\n",
       "    .dataframe tbody tr th {\n",
       "        vertical-align: top;\n",
       "    }\n",
       "\n",
       "    .dataframe thead th {\n",
       "        text-align: right;\n",
       "    }\n",
       "</style>\n",
       "<table border=\"1\" class=\"dataframe\">\n",
       "  <thead>\n",
       "    <tr style=\"text-align: right;\">\n",
       "      <th></th>\n",
       "      <th>dt</th>\n",
       "      <th>src_name</th>\n",
       "      <th>MerchantName</th>\n",
       "      <th>total_trnx</th>\n",
       "      <th>total_usd_amount</th>\n",
       "    </tr>\n",
       "  </thead>\n",
       "  <tbody>\n",
       "    <tr>\n",
       "      <th>999994</th>\n",
       "      <td>2023-12-01T00:00</td>\n",
       "      <td>SAMBATH NOY</td>\n",
       "      <td>LORN SOUTH</td>\n",
       "      <td>1</td>\n",
       "      <td>43.000</td>\n",
       "    </tr>\n",
       "    <tr>\n",
       "      <th>999995</th>\n",
       "      <td>2023-12-01T00:00</td>\n",
       "      <td>CHHANG POR</td>\n",
       "      <td>LORN SOVAN RAKSMEY</td>\n",
       "      <td>1</td>\n",
       "      <td>0.200</td>\n",
       "    </tr>\n",
       "    <tr>\n",
       "      <th>999996</th>\n",
       "      <td>2023-12-01T00:00</td>\n",
       "      <td>CHHI CHHI BO</td>\n",
       "      <td>LORN SREY LEAK</td>\n",
       "      <td>1</td>\n",
       "      <td>3.000</td>\n",
       "    </tr>\n",
       "    <tr>\n",
       "      <th>999997</th>\n",
       "      <td>2023-12-01T00:00</td>\n",
       "      <td>SREY LEAK LORN</td>\n",
       "      <td>LORN SREY LEAK</td>\n",
       "      <td>7</td>\n",
       "      <td>6.675</td>\n",
       "    </tr>\n",
       "    <tr>\n",
       "      <th>999998</th>\n",
       "      <td>2023-12-01T00:00</td>\n",
       "      <td>SAVIN DAN</td>\n",
       "      <td>LORN SREY LEAK</td>\n",
       "      <td>1</td>\n",
       "      <td>2.500</td>\n",
       "    </tr>\n",
       "  </tbody>\n",
       "</table>\n",
       "</div>"
      ],
      "text/plain": [
       "                      dt        src_name        MerchantName  total_trnx  \\\n",
       "999994  2023-12-01T00:00     SAMBATH NOY          LORN SOUTH           1   \n",
       "999995  2023-12-01T00:00      CHHANG POR  LORN SOVAN RAKSMEY           1   \n",
       "999996  2023-12-01T00:00    CHHI CHHI BO      LORN SREY LEAK           1   \n",
       "999997  2023-12-01T00:00  SREY LEAK LORN      LORN SREY LEAK           7   \n",
       "999998  2023-12-01T00:00       SAVIN DAN      LORN SREY LEAK           1   \n",
       "\n",
       "        total_usd_amount  \n",
       "999994            43.000  \n",
       "999995             0.200  \n",
       "999996             3.000  \n",
       "999997             6.675  \n",
       "999998             2.500  "
      ]
     },
     "execution_count": 4,
     "metadata": {},
     "output_type": "execute_result"
    }
   ],
   "source": [
    "bakong_data.tail()"
   ]
  },
  {
   "cell_type": "code",
   "execution_count": 5,
   "id": "1b4a29b9-b5a9-4412-8e6d-bc39c32c34a3",
   "metadata": {},
   "outputs": [
    {
     "name": "stdout",
     "output_type": "stream",
     "text": [
      "<class 'pandas.core.frame.DataFrame'>\n",
      "RangeIndex: 999999 entries, 0 to 999998\n",
      "Data columns (total 5 columns):\n",
      " #   Column            Non-Null Count   Dtype  \n",
      "---  ------            --------------   -----  \n",
      " 0   dt                999999 non-null  object \n",
      " 1   src_name          999999 non-null  object \n",
      " 2   MerchantName      999941 non-null  object \n",
      " 3   total_trnx        999999 non-null  int64  \n",
      " 4   total_usd_amount  999999 non-null  float64\n",
      "dtypes: float64(1), int64(1), object(3)\n",
      "memory usage: 38.1+ MB\n"
     ]
    }
   ],
   "source": [
    "bakong_data.info()"
   ]
  },
  {
   "cell_type": "code",
   "execution_count": 6,
   "id": "2f948ff1-1845-4129-953b-94afc3f59e62",
   "metadata": {},
   "outputs": [],
   "source": [
    "bakong_data['src_name'] = bakong_data['src_name'].str.upper()\n",
    "bakong_data['src_name'] = bakong_data['src_name'].str.strip()\n",
    "bakong_data['src_name'] = bakong_data['src_name'].str.replace(\" \", \"\")"
   ]
  },
  {
   "cell_type": "code",
   "execution_count": 7,
   "id": "e453ee24-eda0-4d6d-b13e-d273d1d5f5b6",
   "metadata": {},
   "outputs": [
    {
     "data": {
      "text/html": [
       "<div>\n",
       "<style scoped>\n",
       "    .dataframe tbody tr th:only-of-type {\n",
       "        vertical-align: middle;\n",
       "    }\n",
       "\n",
       "    .dataframe tbody tr th {\n",
       "        vertical-align: top;\n",
       "    }\n",
       "\n",
       "    .dataframe thead th {\n",
       "        text-align: right;\n",
       "    }\n",
       "</style>\n",
       "<table border=\"1\" class=\"dataframe\">\n",
       "  <thead>\n",
       "    <tr style=\"text-align: right;\">\n",
       "      <th></th>\n",
       "      <th>dt</th>\n",
       "      <th>src_name</th>\n",
       "      <th>MerchantName</th>\n",
       "      <th>total_trnx</th>\n",
       "      <th>total_usd_amount</th>\n",
       "    </tr>\n",
       "  </thead>\n",
       "  <tbody>\n",
       "    <tr>\n",
       "      <th>999994</th>\n",
       "      <td>2023-12-01T00:00</td>\n",
       "      <td>SAMBATHNOY</td>\n",
       "      <td>LORN SOUTH</td>\n",
       "      <td>1</td>\n",
       "      <td>43.000</td>\n",
       "    </tr>\n",
       "    <tr>\n",
       "      <th>999995</th>\n",
       "      <td>2023-12-01T00:00</td>\n",
       "      <td>CHHANGPOR</td>\n",
       "      <td>LORN SOVAN RAKSMEY</td>\n",
       "      <td>1</td>\n",
       "      <td>0.200</td>\n",
       "    </tr>\n",
       "    <tr>\n",
       "      <th>999996</th>\n",
       "      <td>2023-12-01T00:00</td>\n",
       "      <td>CHHICHHIBO</td>\n",
       "      <td>LORN SREY LEAK</td>\n",
       "      <td>1</td>\n",
       "      <td>3.000</td>\n",
       "    </tr>\n",
       "    <tr>\n",
       "      <th>999997</th>\n",
       "      <td>2023-12-01T00:00</td>\n",
       "      <td>SREYLEAKLORN</td>\n",
       "      <td>LORN SREY LEAK</td>\n",
       "      <td>7</td>\n",
       "      <td>6.675</td>\n",
       "    </tr>\n",
       "    <tr>\n",
       "      <th>999998</th>\n",
       "      <td>2023-12-01T00:00</td>\n",
       "      <td>SAVINDAN</td>\n",
       "      <td>LORN SREY LEAK</td>\n",
       "      <td>1</td>\n",
       "      <td>2.500</td>\n",
       "    </tr>\n",
       "  </tbody>\n",
       "</table>\n",
       "</div>"
      ],
      "text/plain": [
       "                      dt      src_name        MerchantName  total_trnx  \\\n",
       "999994  2023-12-01T00:00    SAMBATHNOY          LORN SOUTH           1   \n",
       "999995  2023-12-01T00:00     CHHANGPOR  LORN SOVAN RAKSMEY           1   \n",
       "999996  2023-12-01T00:00    CHHICHHIBO      LORN SREY LEAK           1   \n",
       "999997  2023-12-01T00:00  SREYLEAKLORN      LORN SREY LEAK           7   \n",
       "999998  2023-12-01T00:00      SAVINDAN      LORN SREY LEAK           1   \n",
       "\n",
       "        total_usd_amount  \n",
       "999994            43.000  \n",
       "999995             0.200  \n",
       "999996             3.000  \n",
       "999997             6.675  \n",
       "999998             2.500  "
      ]
     },
     "execution_count": 7,
     "metadata": {},
     "output_type": "execute_result"
    }
   ],
   "source": [
    "bakong_data.tail()"
   ]
  },
  {
   "cell_type": "markdown",
   "id": "fbbb4553-89f0-453f-94d6-900d81aac86b",
   "metadata": {},
   "source": [
    "<hr>\n",
    "Clean ABA Data\n",
    "<hr>"
   ]
  },
  {
   "cell_type": "code",
   "execution_count": 8,
   "id": "4a7a602a-9dc3-454e-b8c3-ff4c5a9ed6e3",
   "metadata": {},
   "outputs": [
    {
     "data": {
      "text/html": [
       "<div>\n",
       "<style scoped>\n",
       "    .dataframe tbody tr th:only-of-type {\n",
       "        vertical-align: middle;\n",
       "    }\n",
       "\n",
       "    .dataframe tbody tr th {\n",
       "        vertical-align: top;\n",
       "    }\n",
       "\n",
       "    .dataframe thead th {\n",
       "        text-align: right;\n",
       "    }\n",
       "</style>\n",
       "<table border=\"1\" class=\"dataframe\">\n",
       "  <thead>\n",
       "    <tr style=\"text-align: right;\">\n",
       "      <th></th>\n",
       "      <th>AC_NAME</th>\n",
       "    </tr>\n",
       "  </thead>\n",
       "  <tbody>\n",
       "    <tr>\n",
       "      <th>999995</th>\n",
       "      <td>LOEUM SOCHETRA</td>\n",
       "    </tr>\n",
       "    <tr>\n",
       "      <th>999996</th>\n",
       "      <td>LOEUM SOCHITA</td>\n",
       "    </tr>\n",
       "    <tr>\n",
       "      <th>999997</th>\n",
       "      <td>LOEUM SOHEM</td>\n",
       "    </tr>\n",
       "    <tr>\n",
       "      <th>999998</th>\n",
       "      <td>LOEUM SOKAL</td>\n",
       "    </tr>\n",
       "    <tr>\n",
       "      <th>999999</th>\n",
       "      <td>LOEUM SOKHAY</td>\n",
       "    </tr>\n",
       "  </tbody>\n",
       "</table>\n",
       "</div>"
      ],
      "text/plain": [
       "               AC_NAME\n",
       "999995  LOEUM SOCHETRA\n",
       "999996   LOEUM SOCHITA\n",
       "999997     LOEUM SOHEM\n",
       "999998     LOEUM SOKAL\n",
       "999999    LOEUM SOKHAY"
      ]
     },
     "execution_count": 8,
     "metadata": {},
     "output_type": "execute_result"
    }
   ],
   "source": [
    "aba_data.tail()"
   ]
  },
  {
   "cell_type": "code",
   "execution_count": 9,
   "id": "d394b276-4346-4d69-90d4-0a2d43c5fcd0",
   "metadata": {},
   "outputs": [
    {
     "name": "stdout",
     "output_type": "stream",
     "text": [
      "<class 'pandas.core.frame.DataFrame'>\n",
      "RangeIndex: 1000000 entries, 0 to 999999\n",
      "Data columns (total 1 columns):\n",
      " #   Column   Non-Null Count    Dtype \n",
      "---  ------   --------------    ----- \n",
      " 0   AC_NAME  1000000 non-null  object\n",
      "dtypes: object(1)\n",
      "memory usage: 7.6+ MB\n"
     ]
    }
   ],
   "source": [
    "aba_data.info()"
   ]
  },
  {
   "cell_type": "code",
   "execution_count": 10,
   "id": "08e86990-2957-4271-a59d-f46e8c514256",
   "metadata": {},
   "outputs": [],
   "source": [
    "aba_data['AC_NAME'] = aba_data['AC_NAME'].str.upper()\n",
    "aba_data['AC_NAME'] = aba_data['AC_NAME'].str.strip()\n",
    "aba_data['AC_NAME'] = aba_data['AC_NAME'].str.replace(\" \", \"\")"
   ]
  },
  {
   "cell_type": "code",
   "execution_count": 11,
   "id": "187deec8-2951-4cfa-aaa8-eaf3dd56ecc8",
   "metadata": {},
   "outputs": [
    {
     "data": {
      "text/html": [
       "<div>\n",
       "<style scoped>\n",
       "    .dataframe tbody tr th:only-of-type {\n",
       "        vertical-align: middle;\n",
       "    }\n",
       "\n",
       "    .dataframe tbody tr th {\n",
       "        vertical-align: top;\n",
       "    }\n",
       "\n",
       "    .dataframe thead th {\n",
       "        text-align: right;\n",
       "    }\n",
       "</style>\n",
       "<table border=\"1\" class=\"dataframe\">\n",
       "  <thead>\n",
       "    <tr style=\"text-align: right;\">\n",
       "      <th></th>\n",
       "      <th>AC_NAME</th>\n",
       "    </tr>\n",
       "  </thead>\n",
       "  <tbody>\n",
       "    <tr>\n",
       "      <th>999995</th>\n",
       "      <td>LOEUMSOCHETRA</td>\n",
       "    </tr>\n",
       "    <tr>\n",
       "      <th>999996</th>\n",
       "      <td>LOEUMSOCHITA</td>\n",
       "    </tr>\n",
       "    <tr>\n",
       "      <th>999997</th>\n",
       "      <td>LOEUMSOHEM</td>\n",
       "    </tr>\n",
       "    <tr>\n",
       "      <th>999998</th>\n",
       "      <td>LOEUMSOKAL</td>\n",
       "    </tr>\n",
       "    <tr>\n",
       "      <th>999999</th>\n",
       "      <td>LOEUMSOKHAY</td>\n",
       "    </tr>\n",
       "  </tbody>\n",
       "</table>\n",
       "</div>"
      ],
      "text/plain": [
       "              AC_NAME\n",
       "999995  LOEUMSOCHETRA\n",
       "999996   LOEUMSOCHITA\n",
       "999997     LOEUMSOHEM\n",
       "999998     LOEUMSOKAL\n",
       "999999    LOEUMSOKHAY"
      ]
     },
     "execution_count": 11,
     "metadata": {},
     "output_type": "execute_result"
    }
   ],
   "source": [
    "aba_data.tail()"
   ]
  },
  {
   "cell_type": "markdown",
   "id": "b680338f-54df-4238-8927-08f709b58082",
   "metadata": {},
   "source": [
    "<hr>\n",
    "Matching Algo\n",
    "<hr>"
   ]
  },
  {
   "cell_type": "code",
   "execution_count": 12,
   "id": "d54b22c0-2681-4d7c-a9ae-67825f7575e5",
   "metadata": {},
   "outputs": [
    {
     "name": "stdout",
     "output_type": "stream",
     "text": [
      "Requirement already satisfied: rapidfuzz in d:\\aba_bank\\ad_hoc\\khqr_aba_cust_matching\\.venv\\lib\\site-packages (3.6.1)\n"
     ]
    },
    {
     "name": "stderr",
     "output_type": "stream",
     "text": [
      "WARNING: You are using pip version 22.0.4; however, version 23.3.2 is available.\n",
      "You should consider upgrading via the 'D:\\ABA_Bank\\AD_HOC\\KHQR_ABA_Cust_Matching\\.venv\\Scripts\\python.exe -m pip install --upgrade pip' command.\n"
     ]
    }
   ],
   "source": [
    "!pip install rapidfuzz"
   ]
  },
  {
   "cell_type": "code",
   "execution_count": 13,
   "id": "a89c608f-d47f-45ec-b494-7026e2064693",
   "metadata": {},
   "outputs": [],
   "source": [
    "from rapidfuzz import fuzz as rf\n",
    "\n",
    "# Token Sort Ratio is useful when word order might vary\n",
    "\n",
    "def isABACustomer(str1,str2):\n",
    "    return rf.token_sort_ratio(str1, str2)\n",
    "    # return fuzz.token_sort_ratio(row['src_name'], row['MerchantName'])"
   ]
  },
  {
   "cell_type": "code",
   "execution_count": 18,
   "id": "57f5617e-b0f5-4b2d-a56e-9da69aa37c46",
   "metadata": {},
   "outputs": [
    {
     "data": {
      "text/html": [
       "<div>\n",
       "<style scoped>\n",
       "    .dataframe tbody tr th:only-of-type {\n",
       "        vertical-align: middle;\n",
       "    }\n",
       "\n",
       "    .dataframe tbody tr th {\n",
       "        vertical-align: top;\n",
       "    }\n",
       "\n",
       "    .dataframe thead th {\n",
       "        text-align: right;\n",
       "    }\n",
       "</style>\n",
       "<table border=\"1\" class=\"dataframe\">\n",
       "  <thead>\n",
       "    <tr style=\"text-align: right;\">\n",
       "      <th></th>\n",
       "      <th>bakong_cust</th>\n",
       "      <th>aba_cust</th>\n",
       "    </tr>\n",
       "  </thead>\n",
       "  <tbody>\n",
       "    <tr>\n",
       "      <th>0</th>\n",
       "      <td>SINVORN</td>\n",
       "      <td>PENGKHEANGANDCHOUMUYSORTH</td>\n",
       "    </tr>\n",
       "    <tr>\n",
       "      <th>1</th>\n",
       "      <td>PUNLORKSUM</td>\n",
       "      <td>ROSPHEARA</td>\n",
       "    </tr>\n",
       "    <tr>\n",
       "      <th>2</th>\n",
       "      <td>KOEMHENGKONG</td>\n",
       "      <td>CAMBODIACANAANORGANIZATION</td>\n",
       "    </tr>\n",
       "    <tr>\n",
       "      <th>3</th>\n",
       "      <td>PISETHTORN</td>\n",
       "      <td>MELPHEAROMANDHOKBORA</td>\n",
       "    </tr>\n",
       "    <tr>\n",
       "      <th>4</th>\n",
       "      <td>LYHENGCHERM</td>\n",
       "      <td>TESTITSORYA</td>\n",
       "    </tr>\n",
       "  </tbody>\n",
       "</table>\n",
       "</div>"
      ],
      "text/plain": [
       "    bakong_cust                    aba_cust\n",
       "0       SINVORN   PENGKHEANGANDCHOUMUYSORTH\n",
       "1    PUNLORKSUM                   ROSPHEARA\n",
       "2  KOEMHENGKONG  CAMBODIACANAANORGANIZATION\n",
       "3    PISETHTORN        MELPHEAROMANDHOKBORA\n",
       "4   LYHENGCHERM                 TESTITSORYA"
      ]
     },
     "execution_count": 18,
     "metadata": {},
     "output_type": "execute_result"
    }
   ],
   "source": [
    "#concate the dataframe \n",
    "data = pd.DataFrame({\"bakong_cust\" : bakong_data['src_name'] , \"aba_cust\" : aba_data['AC_NAME']})\n",
    "data.head()"
   ]
  },
  {
   "cell_type": "code",
   "execution_count": null,
   "id": "76112034-2afb-4aaf-8819-c6174db106ff",
   "metadata": {},
   "outputs": [
    {
     "name": "stdout",
     "output_type": "stream",
     "text": [
      "2024-01-23 22:40:37.407878\n"
     ]
    }
   ],
   "source": [
    "import pandas as pd\n",
    "from rapidfuzz import fuzz\n",
    "import datetime\n",
    "\n",
    "results = []\n",
    "start = datetime.datetime.now()\n",
    "print(start)\n",
    "\n",
    "for item_a in data['bakong_cust']:\n",
    "        for item_b in data['aba_cust']:\n",
    "            score = fuzz.token_set_ratio(str(item_a), str(item_b))\n",
    "            results.append({'bakong_cust': item_a, 'aba_cust': item_b, 'score': score})            \n",
    "end = datetime.datetime.now()\n",
    "print(start)\n",
    "\n",
    "print(end - start)\n",
    "results_df = pd.DataFrame(results)\n",
    "\n",
    "\n",
    "results_df.head()"
   ]
  },
  {
   "cell_type": "code",
   "execution_count": null,
   "id": "ca16c058-69e7-424b-9323-e1caa17d2b2e",
   "metadata": {},
   "outputs": [],
   "source": []
  }
 ],
 "metadata": {
  "kernelspec": {
   "display_name": "Python 3 (ipykernel)",
   "language": "python",
   "name": "python3"
  },
  "language_info": {
   "codemirror_mode": {
    "name": "ipython",
    "version": 3
   },
   "file_extension": ".py",
   "mimetype": "text/x-python",
   "name": "python",
   "nbconvert_exporter": "python",
   "pygments_lexer": "ipython3",
   "version": "3.9.13"
  }
 },
 "nbformat": 4,
 "nbformat_minor": 5
}
