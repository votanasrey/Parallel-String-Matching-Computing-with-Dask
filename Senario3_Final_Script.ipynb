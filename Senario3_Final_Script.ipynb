{
 "cells": [
  {
   "cell_type": "code",
   "execution_count": null,
   "id": "f2cd8b45-c7dc-4f66-b8bf-d2dee9d7d85c",
   "metadata": {},
   "outputs": [],
   "source": [
    "import dremio_client.lib as dlib\n",
    "import numpy as np\n",
    "\n",
    "import pandas as pd\n",
    "import h3pandas\n",
    "from datetime import datetime\n",
    "import time\n",
    "\n",
    "from pyarrow import flight\n",
    "from pyarrow.flight import FlightClient\n",
    "import pyarrow.dataset as ds\n",
    "import polars as pl\n",
    "\n",
    "from rapidfuzz import fuzz\n",
    "import datetime\n",
    "from dask.distributed import Client, LocalCluster\n",
    "import dask.dataframe as dd\n"
   ]
  },
  {
   "cell_type": "code",
   "execution_count": null,
   "id": "6e1ca937-88c3-4ba8-8ad1-68148dd6021e",
   "metadata": {},
   "outputs": [],
   "source": [
    "def get_bakong_data():\n",
    "\n",
    "    query = f\"\"\"\n",
    "        SELECT \n",
    "        \n",
    "            DISTINCT MerchantName\n",
    "            \n",
    "        FROM \"DataScience_DB\".\"General_DB\".dbo.bk_outgoing\n",
    "        where date_trunc('month',created_at) = '2023-12-01'\n",
    "        and type = 'QR' AND MerchantType = '29'\n",
    "        AND src_name <> MerchantName\n",
    "        \n",
    "        ORDER BY 1\n",
    "        \n",
    "    \"\"\"\n",
    "\n",
    "    data = dlib.simple_query(query)\n",
    "\n",
    "    return data"
   ]
  },
  {
   "cell_type": "code",
   "execution_count": null,
   "id": "4c9ea657-8603-4b1c-9411-e216cb7caff5",
   "metadata": {},
   "outputs": [],
   "source": [
    "def get_aba_data():\n",
    "    query = f\"\"\"\n",
    "        SELECT DISTINCT CIF, AC_NAME\n",
    "        FROM dwh.FCCBOREP.VW_CUSTACC\n",
    "        ORDER BY 1\n",
    "    \"\"\"\n",
    "    data = dlib.simple_query(query)\n",
    "    return data\n",
    "\n"
   ]
  },
  {
   "cell_type": "code",
   "execution_count": null,
   "id": "215b25db-6369-436e-99cd-0af0d101e71e",
   "metadata": {},
   "outputs": [],
   "source": [
    "#bakong_data = get_bakong_data()\n",
    "#aba_data_set = get_aba_data()\n",
    "aba_data_set = pd.read_csv('dataset/aba_data_1m.csv')"
   ]
  },
  {
   "cell_type": "code",
   "execution_count": null,
   "id": "95ae97b4-7ab5-4683-8d68-fb32008211bf",
   "metadata": {},
   "outputs": [],
   "source": [
    "aba_data = aba_data_set"
   ]
  },
  {
   "cell_type": "code",
   "execution_count": null,
   "id": "e5919f29-cd84-4c68-9734-2c2190fc75e3",
   "metadata": {},
   "outputs": [],
   "source": [
    "#bakong_data.shape\n",
    "aba_data.shape"
   ]
  },
  {
   "cell_type": "markdown",
   "id": "cf465a6a-914e-4653-9c47-8b5ded12621a",
   "metadata": {},
   "source": [
    "<hr>\n",
    "Clean ABA Data\n",
    "<hr>"
   ]
  },
  {
   "cell_type": "code",
   "execution_count": null,
   "id": "ed5dd3cf-4b60-408c-acb0-60fa22a94f56",
   "metadata": {},
   "outputs": [],
   "source": [
    "aba_data.tail()"
   ]
  },
  {
   "cell_type": "code",
   "execution_count": null,
   "id": "4f1cf2d0-6759-48ff-8208-6b3cf3b53c77",
   "metadata": {},
   "outputs": [],
   "source": [
    "aba_data.info()"
   ]
  },
  {
   "cell_type": "code",
   "execution_count": null,
   "id": "a56bb584-3918-42cd-8faa-86e01c7e8bac",
   "metadata": {},
   "outputs": [],
   "source": [
    "aba_data['AC_NAME'] = aba_data['AC_NAME'].str.upper()\n",
    "aba_data['AC_NAME'] = aba_data['AC_NAME'].str.strip()\n",
    "aba_data['AC_NAME'] = aba_data['AC_NAME'].str.replace(\" \", \"\")"
   ]
  },
  {
   "cell_type": "code",
   "execution_count": null,
   "id": "dd0cae07-a683-4812-961a-8cc12d06bae7",
   "metadata": {},
   "outputs": [],
   "source": [
    "aba_data = aba_data.drop_duplicates()\n",
    "aba_data = aba_data.dropna()"
   ]
  },
  {
   "cell_type": "code",
   "execution_count": null,
   "id": "f844a370-d3fd-4765-8f03-b760f19a8e71",
   "metadata": {},
   "outputs": [],
   "source": [
    "aba_data.shape"
   ]
  },
  {
   "cell_type": "markdown",
   "id": "ce1a4962-afb8-445f-8250-3834e618b0d2",
   "metadata": {},
   "source": [
    "<hr>\n",
    "Clean Bakong Data\n",
    "<hr>\n"
   ]
  },
  {
   "cell_type": "code",
   "execution_count": null,
   "id": "93c13ce1-0a7f-45a6-bcd8-5e5586554808",
   "metadata": {},
   "outputs": [],
   "source": [
    "bakong_data = pd.read_csv('dataset/unique_merchantname_bk_500001_lastrow.csv')\n",
    "bakong_data.shape"
   ]
  },
  {
   "cell_type": "code",
   "execution_count": null,
   "id": "105285b3-32bc-4412-8b34-b4330acb72dc",
   "metadata": {},
   "outputs": [],
   "source": [
    "bakong_data.drop('Unnamed: 0', axis=1, inplace=True)\n",
    "bakong_data.head()"
   ]
  },
  {
   "cell_type": "code",
   "execution_count": null,
   "id": "c80e5655-93c7-433f-926f-599c9a3bd3de",
   "metadata": {},
   "outputs": [],
   "source": [
    "bakong_data['Unique_MerchantName'] = bakong_data['Unique_MerchantName'].str.upper()\n",
    "bakong_data['Unique_MerchantName'] = bakong_data['Unique_MerchantName'].str.strip()\n",
    "bakong_data['Unique_MerchantName'] = bakong_data['Unique_MerchantName'].str.replace(\" \", \"\")\n",
    "\n",
    "bakong_data.shape"
   ]
  },
  {
   "cell_type": "code",
   "execution_count": null,
   "id": "18c4616f-95b1-4904-81a7-c569f1ec8e25",
   "metadata": {},
   "outputs": [],
   "source": [
    "bk_cust = bakong_data.head(1000)\n",
    "aba_cust = aba_data.head(10000)"
   ]
  },
  {
   "cell_type": "code",
   "execution_count": null,
   "id": "27e43426-95f2-47bf-9118-b0180f3f2c2c",
   "metadata": {},
   "outputs": [],
   "source": [
    "print(bk_cust.shape)\n",
    "print(aba_cust.shape)"
   ]
  },
  {
   "cell_type": "code",
   "execution_count": null,
   "id": "8c245aa7-5e52-446e-9353-f225f0839433",
   "metadata": {},
   "outputs": [],
   "source": [
    "#concate the dataframe \n",
    "data = pd.DataFrame({\"bakong_cust\" : bk_cust['Unique_MerchantName'] , \"aba_cust\" : aba_cust['AC_NAME']})\n",
    "data.head()"
   ]
  },
  {
   "cell_type": "code",
   "execution_count": null,
   "id": "60cc6e78-3a6a-4a99-b814-51704455815c",
   "metadata": {},
   "outputs": [],
   "source": [
    "data.dropna(subset=['aba_cust'], inplace=True)\n",
    "#data.dropna(subset=['bakong_cust'], inplace=True)\n",
    "\n",
    "data.head()"
   ]
  },
  {
   "cell_type": "markdown",
   "id": "c769a87d-ce5f-43a2-9661-f9e197d528a3",
   "metadata": {},
   "source": [
    "<hr>\n",
    "Dask Python - Data Frame \n",
    "<hr>"
   ]
  },
  {
   "cell_type": "code",
   "execution_count": null,
   "id": "4e7d4ad1-0f04-4c35-8cd2-7953c891a3fe",
   "metadata": {},
   "outputs": [],
   "source": [
    "data.shape"
   ]
  },
  {
   "cell_type": "code",
   "execution_count": null,
   "id": "bb787234-29dc-45b7-a143-86592b51d589",
   "metadata": {},
   "outputs": [],
   "source": [
    "\n",
    "def fuzzy_match_partition(df, aba_cust_list):\n",
    "    results = []\n",
    "    for index, row in df.iterrows():\n",
    "        for item_b in aba_cust_list:\n",
    "            score = fuzz.token_set_ratio(str(row['bakong_cust']), str(item_b))\n",
    "            if score >= 95.0:\n",
    "                results.append({'bakong_cust': row['bakong_cust'], 'aba_cust': item_b, 'score': score})\n",
    "                break\n",
    "    return pd.DataFrame(results)"
   ]
  },
  {
   "cell_type": "code",
   "execution_count": null,
   "id": "61328dc4-a004-4c2a-a727-45636ce5fd13",
   "metadata": {},
   "outputs": [],
   "source": [
    "# Convert the Pandas dataframe to a Dask dataframe\n",
    "dask_df = dd.from_pandas(data, npartitions=10)\n",
    "dask_df"
   ]
  },
  {
   "cell_type": "code",
   "execution_count": null,
   "id": "3739d76f-bae1-42f4-92c4-4129d7319f27",
   "metadata": {},
   "outputs": [],
   "source": [
    "client = Client(n_workers=2, memory_limit=\"5GB\")\n",
    "client"
   ]
  },
  {
   "cell_type": "code",
   "execution_count": null,
   "id": "65e84093-45de-4101-9ff3-75cb088ff570",
   "metadata": {},
   "outputs": [],
   "source": [
    "#create dask data to list\n",
    "aba_cust_list = dask_df['aba_cust'].compute().tolist()\n",
    "\n",
    "# save the dask data above to each cluster to process bakong data\n",
    "distributed_aba_cust_list = client.scatter(aba_cust_list, broadcast=True)\n",
    "\n",
    "#create meta \n",
    "meta = {'bakong_cust': 'object', 'aba_cust': 'object', 'score': 'float'}"
   ]
  },
  {
   "cell_type": "code",
   "execution_count": null,
   "id": "bdf7984f-1669-46e8-81a3-e4f6bdf4d714",
   "metadata": {},
   "outputs": [],
   "source": [
    "\n",
    "# apply the data and do matching \n",
    "result_1 = dask_df.map_partitions(fuzzy_match_partition, distributed_aba_cust_list, meta=meta)\n",
    "\n",
    "start = datetime.datetime.now()\n",
    "print(\"Start time:\", start)\n",
    "\n",
    "results_df_1 = result_1.compute()\n",
    "\n",
    "end = datetime.datetime.now()\n",
    "\n",
    "print(\"End time:\", end)\n",
    "print(\"Duration:\", end - start)"
   ]
  },
  {
   "cell_type": "code",
   "execution_count": null,
   "id": "824e264b-a0ef-42be-aec6-151aa46b8b47",
   "metadata": {},
   "outputs": [],
   "source": [
    "results_df_1"
   ]
  },
  {
   "cell_type": "markdown",
   "id": "0bcc5d41-fc2d-4a15-b674-e9ad212c189f",
   "metadata": {},
   "source": [
    "<hr>\n",
    "Terminal Cluster\n",
    "<hr>"
   ]
  },
  {
   "cell_type": "code",
   "execution_count": null,
   "id": "52c4bf17-2375-4fda-8d7e-9c380c564c95",
   "metadata": {},
   "outputs": [],
   "source": [
    "#close the cluster \n",
    "# client.close()"
   ]
  },
  {
   "cell_type": "code",
   "execution_count": null,
   "id": "716eb27d-36b7-452f-a200-9bba3bc89b3e",
   "metadata": {},
   "outputs": [],
   "source": []
  }
 ],
 "metadata": {
  "kernelspec": {
   "display_name": "Python 3 (ipykernel)",
   "language": "python",
   "name": "python3"
  },
  "language_info": {
   "codemirror_mode": {
    "name": "ipython",
    "version": 3
   },
   "file_extension": ".py",
   "mimetype": "text/x-python",
   "name": "python",
   "nbconvert_exporter": "python",
   "pygments_lexer": "ipython3",
   "version": "3.9.13"
  }
 },
 "nbformat": 4,
 "nbformat_minor": 5
}
