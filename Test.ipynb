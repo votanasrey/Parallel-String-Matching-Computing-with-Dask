{
 "cells": [
  {
   "cell_type": "code",
   "execution_count": 1,
   "id": "445f3ab4-9bfd-4e9a-99b3-0cfe33ed29c4",
   "metadata": {},
   "outputs": [
    {
     "name": "stdout",
     "output_type": "stream",
     "text": [
      "Original Similarity Scores:\n",
      "[80.         95.65217391 88.        ]\n",
      "\n",
      "Similarity Scores with a New Dimension:\n",
      "[[80.        ]\n",
      " [95.65217391]\n",
      " [88.        ]]\n"
     ]
    }
   ],
   "source": [
    "import numpy as np\n",
    "from rapidfuzz import fuzz\n",
    "\n",
    "array1 = np.array([\"string one\", \"hello world\", \"fuzzy match\"])\n",
    "array2 = np.array([\"string two\", \"hello world!\", \"fuzzy matching\"])\n",
    "\n",
    "def compare_strings(str1, str2):\n",
    "    return fuzz.token_set_ratio(str1, str2)\n",
    "\n",
    "similarity_scores = np.vectorize(compare_strings)(array1, array2)\n",
    "similarity_scores_with_dimension = similarity_scores[:, np.newaxis]\n",
    "\n",
    "print(\"Original Similarity Scores:\")\n",
    "print(similarity_scores)\n",
    "print(\"\\nSimilarity Scores with a New Dimension:\")\n",
    "print(similarity_scores_with_dimension)\n"
   ]
  },
  {
   "cell_type": "code",
   "execution_count": 1,
   "id": "cc1e16fe-e3d2-4d8d-af35-0739b2e7193f",
   "metadata": {},
   "outputs": [
    {
     "name": "stdout",
     "output_type": "stream",
     "text": [
      "Matching ABA Customers:\n",
      "['string two' 'hello world']\n",
      "\n",
      "Matching Scores:\n",
      "[100.          95.65217391]\n"
     ]
    }
   ],
   "source": [
    "import numpy as np\n",
    "from rapidfuzz import process, fuzz\n",
    "\n",
    "def apply_rapidfuzz_matching_numpy(bakong_cust_array, aba_cust_list):\n",
    "    bakong_cust_array = np.array(bakong_cust_array, dtype=str)\n",
    "    \n",
    "    aba_cust_results = []\n",
    "    score_results = []\n",
    "\n",
    "    # Function to apply fuzzy matching to each element in bakong_cust_array\n",
    "    for x in bakong_cust_array:\n",
    "        match = process.extractOne(x, aba_cust_list, scorer=fuzz.token_set_ratio, score_cutoff=95)\n",
    "        if match:\n",
    "            aba_cust, score, _ = match\n",
    "            aba_cust_results.append(aba_cust)\n",
    "            score_results.append(score)\n",
    "        else:\n",
    "            aba_cust_results.append(None)\n",
    "            score_results.append(None)\n",
    "\n",
    "    # Convert the results to NumPy arrays\n",
    "    aba_cust_results = np.array(aba_cust_results, dtype=object)  # Use dtype=object for mixed types\n",
    "    score_results = np.array(score_results, dtype=float)  # Convert scores to float\n",
    "\n",
    "    # Create a mask to filter out rows without a match\n",
    "    mask = aba_cust_results != None\n",
    "\n",
    "    # Filter the results arrays using the mask\n",
    "    aba_cust_results = aba_cust_results[mask]\n",
    "    score_results = score_results[mask]\n",
    "\n",
    "    return aba_cust_results, score_results\n",
    "\n",
    "# Example usage:\n",
    "aba_cust_list = [\"string two\", \"hello world\", \"fuzzy match\"]\n",
    "bakong_cust_array = [\"string two\", \"hello world!\", \"fuzzy matching\"]\n",
    "\n",
    "aba_cust_results, score_results = apply_rapidfuzz_matching_numpy(bakong_cust_array, aba_cust_list)\n",
    "\n",
    "print(\"Matching ABA Customers:\")\n",
    "print(aba_cust_results)\n",
    "print(\"\\nMatching Scores:\")\n",
    "print(score_results)\n"
   ]
  },
  {
   "cell_type": "code",
   "execution_count": null,
   "id": "fd882476-bc5b-4d54-bf31-75e74d38651a",
   "metadata": {},
   "outputs": [],
   "source": []
  }
 ],
 "metadata": {
  "kernelspec": {
   "display_name": "Python 3 (ipykernel)",
   "language": "python",
   "name": "python3"
  },
  "language_info": {
   "codemirror_mode": {
    "name": "ipython",
    "version": 3
   },
   "file_extension": ".py",
   "mimetype": "text/x-python",
   "name": "python",
   "nbconvert_exporter": "python",
   "pygments_lexer": "ipython3",
   "version": "3.9.13"
  }
 },
 "nbformat": 4,
 "nbformat_minor": 5
}
